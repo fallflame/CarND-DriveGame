{
 "cells": [
  {
   "cell_type": "code",
   "execution_count": 11,
   "metadata": {
    "collapsed": false
   },
   "outputs": [
    {
     "name": "stdout",
     "output_type": "stream",
     "text": [
      "Modules loaded.\n",
      "CSV file loaded.\n",
      "Data Size:  12201\n",
      "Image Size:  320 x 160\n",
      "Steering Mean:  -0.001204757511064644\n",
      "Steering MSE:  0.04506767671288408\n"
     ]
    }
   ],
   "source": [
    "import csv\n",
    "import pickle\n",
    "import numpy as np\n",
    "import math\n",
    "import tensorflow as tf\n",
    "from PIL import Image\n",
    "from sklearn.model_selection import train_test_split\n",
    "from sklearn.utils import shuffle\n",
    "import matplotlib.pyplot as plt\n",
    "\n",
    "\n",
    "# Fix error with TF and Keras\n",
    "tf.python.control_flow_ops = tf\n",
    "print('Modules loaded.')\n",
    "\n",
    "# Load data\n",
    "raw_data = None\n",
    "\n",
    "root_path = r'C:\\Users\\MacNab\\Develop\\simulator-windows-64\\data\\\\'\n",
    "\n",
    "with open(root_path + 'driving_log.csv', 'r') as csvfile:\n",
    "\treader = csv.reader(csvfile)\n",
    "\traw_data = list(reader)[1:]\n",
    "\n",
    "# remove too slow data \t\n",
    "# raw_data = [line for line in raw_data if float(line[6]) > 3]\n",
    "\n",
    "# Match the image with next steering\n",
    "import datetime\n",
    "def read_time(filename):\n",
    "\tindex = filename.index('center')\n",
    "\tyear = filename[index+7: index+11]\n",
    "\tmonth = filename[index+12: index+14]\n",
    "\tday = filename[index+15: index+17]\n",
    "\thour = filename[index+18: index+20]\n",
    "\tminuit = filename[index+21: index+23]\n",
    "\tsec = filename[index+24: index+26]\n",
    "\tmilsec = filename[index+27: index+30]\n",
    "\treturn datetime.datetime(int(year),int(month),int(day), int(hour), int(minuit), int(sec), int(milsec))\n",
    "\n",
    "for i in range(0, len(raw_data)-1):\n",
    "\tts_1 = read_time(raw_data[i][0])\n",
    "\tts_2 = read_time(raw_data[i+1][0])\n",
    "\tif ts_2.timestamp() - ts_1.timestamp() < 1 :\n",
    "\t\traw_data[i][3] = (float(raw_data[i][3]) + float(raw_data[i+1][3])) / 2\n",
    "\n",
    "# reinforce the curve 0.2\n",
    "\n",
    "raw_data_curve = [line for line in raw_data if abs(float(line[3])) > 0.2]\n",
    "for i in range(5):\n",
    "\traw_data.extend(raw_data_curve)\n",
    "\n",
    "\t\n",
    "print('CSV file loaded.')\t\n",
    "print('Data Size: ', len(raw_data))\n",
    "# data size: 19274\n",
    "# raw_data is a 2-d array, \n",
    "# center,left,right,steering,throttle,brake,speed\n",
    "\n",
    "##################\n",
    "#    meta data   #\n",
    "##################\n",
    "\n",
    "image_array = np.asarray(Image.open(raw_data[0][0]))\n",
    "\n",
    "height = len(image_array)\n",
    "width = len(image_array[0])\n",
    "print('Image Size: ', width, 'x', height)\n",
    "\n",
    "steering = [float(line[3]) for line in raw_data]\n",
    "steering_mean = sum(steering) / len(steering)\n",
    "print('Steering Mean: ', steering_mean)\n",
    "\n",
    "steering_res = [(float(line[3])-steering_mean)**2 for line in raw_data]\n",
    "print('Steering MSE: ', sum(steering_res) / len(steering_res) )\n",
    "\n",
    "\n",
    "\n"
   ]
  },
  {
   "cell_type": "code",
   "execution_count": 12,
   "metadata": {
    "collapsed": false
   },
   "outputs": [
    {
     "data": {
      "text/plain": [
       "<matplotlib.text.Text at 0x1cac8b2a080>"
      ]
     },
     "execution_count": 12,
     "metadata": {},
     "output_type": "execute_result"
    },
    {
     "data": {
      "image/png": "[encoded data removed]",
      "text/plain": [
       "<matplotlib.figure.Figure at 0x1cac8a570b8>"
      ]
     },
     "metadata": {},
     "output_type": "display_data"
    }
   ],
   "source": [
    "%matplotlib inline  \n",
    "\n",
    "plt.hist(steering, bins=100)\n",
    "plt.title(\"Histogram of steering angle in dataset\")\n",
    "plt.xlabel(\"Value\")\n",
    "plt.ylabel(\"Frequency\")"
   ]
  },
  {
   "cell_type": "code",
   "execution_count": 19,
   "metadata": {
    "collapsed": false
   },
   "outputs": [
    {
     "data": {
      "text/plain": [
       "<matplotlib.text.Text at 0x1caca628278>"
      ]
     },
     "execution_count": 19,
     "metadata": {},
     "output_type": "execute_result"
    },
    {
     "data": {
      "image/png": "[encoded data removed]",
      "text/plain": [
       "<matplotlib.figure.Figure at 0x1caca4be1d0>"
      ]
     },
     "metadata": {},
     "output_type": "display_data"
    }
   ],
   "source": [
    "%matplotlib inline  \n",
    "\n",
    "steering_without_0 = [y for y in steering if abs(y) > 0.01]\n",
    "\n",
    "plt.hist(steering_without_0, bins=100)\n",
    "plt.title(\"Histogram of steering angle in dataset for abs(angle) > 0.01\")\n",
    "plt.xlabel(\"Value\")\n",
    "plt.ylabel(\"Frequency\")"
   ]
  },
  {
   "cell_type": "code",
   "execution_count": null,
   "metadata": {
    "collapsed": true
   },
   "outputs": [],
   "source": []
  }
 ],
 "metadata": {
  "kernelspec": {
   "display_name": "Python 3",
   "language": "python",
   "name": "python3"
  },
  "language_info": {
   "codemirror_mode": {
    "name": "ipython",
    "version": 3
   },
   "file_extension": ".py",
   "mimetype": "text/x-python",
   "name": "python",
   "nbconvert_exporter": "python",
   "pygments_lexer": "ipython3",
   "version": "3.5.2"
  },
  "widgets": {
   "state": {},
   "version": "1.1.2"
  }
 },
 "nbformat": 4,
 "nbformat_minor": 2
}
